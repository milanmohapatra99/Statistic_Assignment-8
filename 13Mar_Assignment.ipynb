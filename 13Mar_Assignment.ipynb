{
 "cells": [
  {
   "cell_type": "markdown",
   "id": "d0ce5364",
   "metadata": {},
   "source": [
    "# Q1. Explain the assumptions required to use ANOVA and provide examples of violations that could impact the validity of the results."
   ]
  },
  {
   "cell_type": "markdown",
   "id": "9c0dafd9",
   "metadata": {},
   "source": [
    "A one-way ANOVA is a statistical test used to determine whether or not there is a significant difference between the means of three or more independent groups. \n",
    "\n",
    "Before we can conduct a one-way ANOVA, we must first check to make sure that three assumptions are met.\n",
    "\n",
    "1. Normality – Each sample was drawn from a normally distributed population.\n",
    "\n",
    "\n",
    "2. Equal Variances – The variances of the populations that the samples come from are equal.\n",
    "\n",
    "\n",
    "3. Independence – The observations in each group are independent of each other and the observations within groups were obtained by a random sample.\n",
    "\n",
    "\n",
    "\n",
    "To check the assumptions of ANOVA, various diagnostic plots can be used, such as histograms, box plots, and Q-Q plots. If the assumptions are violated, alternative statistical methods may need to be used, such as non-parametric tests or transformations of the data."
   ]
  },
  {
   "cell_type": "markdown",
   "id": "f37119b6",
   "metadata": {},
   "source": [
    "# Q2. What are the three types of ANOVA, and in what situations would each be used?"
   ]
  },
  {
   "cell_type": "markdown",
   "id": "7d878688",
   "metadata": {},
   "source": [
    "An ANOVA test is a way to find out if survey or experiment results are significant. \n",
    "\n",
    "The Three types Of Anova are: \n",
    "    \n",
    "    1- One Way ANOVA : \n",
    "        \n",
    "            -A one way ANOVA is used to compare two means from two independent (unrelated) groups using the F-distribution. The null hypothesis for the test is that the two means are equal. Therefore, a significant result means that the two means are unequal.\n",
    "\n",
    "            - For example, you might be studying the effects of tea on weight loss and form three groups: green tea, black tea, and no tea.\n",
    "    \n",
    "    2- Two-Way Anova :\n",
    "        \n",
    "        -A two-way ANOVA test is a statistical test used to determine the effect of two nominal predictor variables on a continuous outcome variable.\n",
    "        \n",
    "        -  A two-way ANOVA test analyzes the effect of the independent variables on the expected outcome along with their relationship to the outcome itself. Random factors would be considered to have no statistical influence on a data set, while systematic factors would be considered to have statistical significance.\n",
    "        \n",
    "        \n",
    "        \n",
    "    3- Three-way ANOVA:\n",
    "\n",
    "        - This is used when we have three independent variables and one dependent variable. For example, if we want to examine the effect of gender, age, and income on a particular outcome, we would use a three-way ANOVA."
   ]
  },
  {
   "cell_type": "markdown",
   "id": "ba85bb04",
   "metadata": {},
   "source": [
    "# Q3. What is the partitioning of variance in ANOVA, and why is it important to understand this concept?"
   ]
  },
  {
   "cell_type": "markdown",
   "id": "adcb087d",
   "metadata": {},
   "source": [
    "\n",
    "An ANOVA uses an F-test to evaluate whether the variance among the groups is greater than the variance within a group. Another way to view this problem is that we could partition variance, that is, we could divide the total variance in our data into the various sources of that variation.\n",
    "\n",
    "\n",
    "The total variance in ANOVA can be divided into two parts: \n",
    "\n",
    "    1- The variance between groups\n",
    "\n",
    "    2- The variance between groups measures the differences in means between each group.\n",
    "\n",
    "The variance within groups :\n",
    "\n",
    "    The variance within groups measures the variation within each group.\n",
    "\n",
    "- The partitioning of variance is important because it allows researchers to determine the proportion of the total variation that can be attributed to differences between groups versus differences within groups.\n",
    "\n",
    "\n",
    "- This information is used to calculate the F-statistic, which is used to test the hypothesis that the means of the groups are equal.\n",
    "\n",
    "\n",
    "- If the variance between groups is large relative to the variance within groups, then the F-statistic will be large, indicating that there are significant differences between the groups.\n",
    "\n",
    "- If the variance within groups is large relative to the variance between groups, then the F-statistic will be small, indicating that there are no significant differences between the groups.\n"
   ]
  },
  {
   "cell_type": "markdown",
   "id": "e56f19df",
   "metadata": {},
   "source": [
    "# Q4. How would we calculate the total sum of squares (SST), explained sum of squares (SSE), and residual sum of squares (SSR) in a one-way ANOVA using Python?"
   ]
  },
  {
   "cell_type": "markdown",
   "id": "85a46e15",
   "metadata": {},
   "source": [
    "SST  - The sum of squares total,SSR-  the sum of squares regression, and SSE- the sum of squares error.\n",
    "\n",
    "SST :- \n",
    "    \n",
    "        - The sum of squares total, denoted SST, is the squared differences between the observed dependent variable and its mean. You can think of this as the dispersion of the observed variables around the mean – much like the variance in descriptive statistics.\n",
    "        \n",
    "        - It is a measure of the total variability of the dataset.\n",
    "        \n",
    "\n",
    "\n",
    "SSR :- \n",
    "    \n",
    "    - The sum of squares due to regression, or SSR. It is the sum of the differences between the predicted value and the mean of the dependent variable. Think of it as a measure that describes how well our line fits the data.\n",
    "    \n",
    "    - If this value of SSR is equal to the sum of squares total, it means our regression model captures all the observed variability and is perfect.\n",
    "    \n",
    "SSE :-\n",
    "    \n",
    "    - The error is the difference between the observed value and the predicted value.\n",
    "    \n",
    "    - We usually want to minimize the error. The smaller the error, the better the estimation power of the regression.\n",
    "    "
   ]
  },
  {
   "cell_type": "code",
   "execution_count": 1,
   "id": "5dc718fe",
   "metadata": {},
   "outputs": [
    {
     "data": {
      "text/html": [
       "<div>\n",
       "<style scoped>\n",
       "    .dataframe tbody tr th:only-of-type {\n",
       "        vertical-align: middle;\n",
       "    }\n",
       "\n",
       "    .dataframe tbody tr th {\n",
       "        vertical-align: top;\n",
       "    }\n",
       "\n",
       "    .dataframe thead th {\n",
       "        text-align: right;\n",
       "    }\n",
       "</style>\n",
       "<table border=\"1\" class=\"dataframe\">\n",
       "  <thead>\n",
       "    <tr style=\"text-align: right;\">\n",
       "      <th></th>\n",
       "      <th>hours</th>\n",
       "      <th>score</th>\n",
       "    </tr>\n",
       "  </thead>\n",
       "  <tbody>\n",
       "    <tr>\n",
       "      <th>0</th>\n",
       "      <td>1</td>\n",
       "      <td>68</td>\n",
       "    </tr>\n",
       "    <tr>\n",
       "      <th>1</th>\n",
       "      <td>1</td>\n",
       "      <td>76</td>\n",
       "    </tr>\n",
       "    <tr>\n",
       "      <th>2</th>\n",
       "      <td>1</td>\n",
       "      <td>74</td>\n",
       "    </tr>\n",
       "    <tr>\n",
       "      <th>3</th>\n",
       "      <td>2</td>\n",
       "      <td>80</td>\n",
       "    </tr>\n",
       "    <tr>\n",
       "      <th>4</th>\n",
       "      <td>2</td>\n",
       "      <td>76</td>\n",
       "    </tr>\n",
       "  </tbody>\n",
       "</table>\n",
       "</div>"
      ],
      "text/plain": [
       "   hours  score\n",
       "0      1     68\n",
       "1      1     76\n",
       "2      1     74\n",
       "3      2     80\n",
       "4      2     76"
      ]
     },
     "execution_count": 1,
     "metadata": {},
     "output_type": "execute_result"
    }
   ],
   "source": [
    "import pandas as pd\n",
    "import numpy as np\n",
    "import statsmodels.api as sm\n",
    "\n",
    "#create pandas DataFrame\n",
    "df = pd.DataFrame({'hours': [1, 1, 1, 2, 2, 2, 2, 2, 3, 3,\n",
    "                             3, 4, 4, 4, 5, 5, 6, 7, 7, 8],\n",
    "                   'score': [68, 76, 74, 80, 76, 78, 81, 84, 86, 83,\n",
    "                             88, 85, 89, 94, 93, 94, 96, 89, 92, 97]})\n",
    "\n",
    "#view first five rows of DataFrame\n",
    "df.head()\n",
    "\n"
   ]
  },
  {
   "cell_type": "code",
   "execution_count": 2,
   "id": "a16ad39c",
   "metadata": {},
   "outputs": [
    {
     "name": "stdout",
     "output_type": "stream",
     "text": [
      "331.0748847926267\n",
      "917.4751152073726\n",
      "1248.5499999999993\n"
     ]
    }
   ],
   "source": [
    "#define response variable\n",
    "y = df['score']\n",
    "\n",
    "#define predictor variable\n",
    "x = df[['hours']]\n",
    "\n",
    "#add constant to predictor variables\n",
    "x = sm.add_constant(x)\n",
    "\n",
    "#fit linear regression model\n",
    "model = sm.OLS(y, x).fit()\n",
    "\n",
    "#calculate sse\n",
    "sse = np.sum((model.fittedvalues - df.score)**2)\n",
    "print(sse)\n",
    "\n",
    "331.07488479262696\n",
    "\n",
    "#calculate ssr\n",
    "ssr = np.sum((model.fittedvalues - df.score.mean())**2)\n",
    "print(ssr)\n",
    "\n",
    "917.4751152073725\n",
    "\n",
    "#calculate sst\n",
    "sst = ssr + sse\n",
    "print(sst)"
   ]
  },
  {
   "cell_type": "markdown",
   "id": "313bfe71",
   "metadata": {},
   "source": [
    "# Q5. In a two-way ANOVA, how would we calculate the main effects and interaction effects using Python?"
   ]
  },
  {
   "cell_type": "code",
   "execution_count": null,
   "id": "3a13ba08",
   "metadata": {},
   "outputs": [],
   "source": [
    "import pandas as pd\n",
    "import statsmodels.api as sm\n",
    "from statsmodels.formula.api import ols\n",
    "\n",
    "# load data\n",
    "data = pd.read_csv('record.csv')\n",
    "\n",
    "# fit two-way ANOVA model\n",
    "model = ols('response_variable ~ group1 + group2 + group1:group2', data=data).fit()\n",
    "\n",
    "# calculate main effects\n",
    "main_effect_1 = sm.stats.anova_lm(model, typ=2)['sum_sq']['group1']\n",
    "main_effect_2 = sm.stats.anova_lm(model, typ=2)['sum_sq']['group2']\n",
    "\n",
    "# calculate interaction effect\n",
    "interaction_effect = sm.stats.anova_lm(model, typ=2)['sum_sq']['group1:group2']\n",
    "\n",
    "# print the results\n",
    "print('Main effect 1:', main_effect_1)\n",
    "print('Main effect 2:', main_effect_2)\n",
    "print('Interaction effect:', interaction_effect)"
   ]
  },
  {
   "cell_type": "markdown",
   "id": "7b9ac1f7",
   "metadata": {},
   "source": [
    "# Q6. Suppose we conducted a one-way ANOVA and obtained an F-statistic of 5.23 and a p-value of 0.02. What can we conclude about the differences between the groups, and how would we interpret these results?"
   ]
  },
  {
   "cell_type": "markdown",
   "id": "96516317",
   "metadata": {},
   "source": [
    "- If we conducted a one-way ANOVA and obtained an F-statistic of 5.23 and a p-value of 0.02, we can conclude that there is a statistically significant difference between the groups. Specifically, we can conclude that at least one of the groups differs significantly from the others in terms of the mean value of the response variable.\n",
    "\n",
    "- The F-statistic of 5.23 indicates the ratio of the variation between groups to the variation within groups. The larger the F-statistic, the more likely it is that there is a significant difference between the groups. The p-value of 0.02 indicates the probability of obtaining such an extreme F-statistic by chance alone, assuming that there is no true difference between the groups. Since the p-value is less than the typical significance level of 0.05, we can reject the null hypothesis that there is no difference between the groups and conclude that there is a significant difference between them.\n",
    "\n",
    "- To interpret the results, we can perform a post-hoc analysis, such as a Tukey HSD test, to identify which groups differ significantly from each other. Additionally, we can calculate effect sizes, such as eta-squared or Cohen's d, to estimate the magnitude of the differences between the groups.\n",
    "\n",
    "- Obtaining a significant F-statistic and p-value in a one-way ANOVA indicates that there is a significant difference between the groups in terms of the mean value of the response variable.\n",
    "\n",
    "- Further analyses can be performed to identify which groups differ significantly and to estimate the magnitude of the differences.\n"
   ]
  },
  {
   "cell_type": "markdown",
   "id": "00618bf5",
   "metadata": {},
   "source": [
    "# Q7. In a repeated measures ANOVA, how would we handle missing data, and what are the potential consequences of using different methods to handle missing data?"
   ]
  },
  {
   "cell_type": "markdown",
   "id": "ecfcb8a9",
   "metadata": {},
   "source": [
    "We can handle missing data by using following ways:\n",
    "    \n",
    "    1-  Listwise deletion :\n",
    "            Any participant with missing data on any of the variables is excluded from the analysis.This approach is simple to implement, but it can reduce the sample size and potentially introduce bias if the missing data is related to the outcome variable or the other variables in the analysis.\n",
    "            \n",
    "    2 - Multiple imputation :\n",
    "            One of the most effective ways of dealing with missing data is multiple imputation (MI). Using MI, we can create multiple plausible replacements of the missing data, given what we have observed and a statistical model (the imputation model).\n",
    "            \n",
    "    3 - Pairwise Deletion :\n",
    "            The available data for each participant is used for the analysis, even if some variables are missing for some participants.This approach retains more participants in the analysis but can introduce bias if the missing data is not missing at random.\n"
   ]
  },
  {
   "cell_type": "markdown",
   "id": "cc09c35a",
   "metadata": {},
   "source": [
    "# Q8. What are some common post-hoc tests used after ANOVA, and when would we use each one? Provide an example of a situation where a post-hoc test might be necessary."
   ]
  },
  {
   "cell_type": "markdown",
   "id": "d754f5ab",
   "metadata": {},
   "source": [
    "An ANOVA is a statistical test that is used to determine whether or not there is a statistically significant difference between the means of three or more independent groups. \n",
    "\n",
    "In order to find out exactly which groups are different from each other, we must conduct a post hoc test (also known as a multiple comparison test), which will allow us to explore the difference between multiple group means while also controlling for the family-wise error rate.\n",
    "\n",
    "- Some common post-hoc tests include:\n",
    "        \n",
    "        \n",
    "        - Tukey’s Test – useful when you want to make every possible pairwise comparison\n",
    "\n",
    "        - Holm’s Method – a slightly more conservative test compared to Tukey’s Test\n",
    "\n",
    "        - Dunnett’s Correction – useful when you want to compare every group mean to a control mean, and you’re not interested in comparing the treatment means with one another.\n",
    "        \n",
    "        - Scheffe's test - \n",
    "                This test is a conservative post-hoc test that can be used when the sample sizes are unequal or the variances are not equal.It is useful when we want to compare multiple groups, but we are not confident in the assumptions of the ANOVA.\n",
    "                \n",
    "                \n",
    "- Conclusion: \n",
    "\n",
    "- If an ANOVA produces a p-value that is less than our significance level, we can use post hoc tests to find out which group means differ from one another.\n",
    "- Post hoc tests allow us to control the family-wise error rate while performing multiple pairwise comparisons.\n",
    "- The tradeoff of controlling the family-wise error rate is lower statistical power. We can reduce the effects of lower statistical power by making fewer pairwise comparisons.\n",
    "- You should determine beforehand which groups you’d like to make pairwise comparisons on and which post hoc test you will use to do so.\n",
    "\n",
    "- We cantake plant growing as an example."
   ]
  },
  {
   "cell_type": "markdown",
   "id": "c328fe87",
   "metadata": {},
   "source": [
    "# Q9. A researcher wants to compare the mean weight loss of three diets: A, B, and C. They collect data from 50 participants who were randomly assigned to one of the diets. Conduct a one-way ANOVA using Python to determine if there are any significant differences between the mean weight loss of the three diets. Report the F-statistic and p-value, and interpret the results."
   ]
  },
  {
   "cell_type": "code",
   "execution_count": 3,
   "id": "4ea4471a",
   "metadata": {},
   "outputs": [
    {
     "name": "stdout",
     "output_type": "stream",
     "text": [
      "F-statistic:  68.0129472265407\n",
      "p-value:  1.2263106300978192e-21\n"
     ]
    }
   ],
   "source": [
    "import numpy as np\n",
    "from scipy.stats import f_oneway\n",
    "\n",
    "# Generate random weight loss data for three diets\n",
    "np.random.seed(1)\n",
    "diet_a = np.random.normal(5, 1, 50)\n",
    "diet_b = np.random.normal(6, 1, 50)\n",
    "diet_c = np.random.normal(4, 1, 50)\n",
    "\n",
    "# Conduct one-way ANOVA\n",
    "f_stat, p_val = f_oneway(diet_a, diet_b, diet_c)\n",
    "\n",
    "# Print results\n",
    "print(\"F-statistic: \", f_stat)\n",
    "print(\"p-value: \", p_val)"
   ]
  },
  {
   "cell_type": "markdown",
   "id": "c4c1f8d9",
   "metadata": {},
   "source": [
    "# Q10. A company wants to know if there are any significant differences in the average time it takes to complete a task using three different software programs: Program A, Program B, and Program C. They randomly assign 30 employees to one of the programs and record the time it takes each employee to complete the task. Conduct a two-way ANOVA using Python to determine if there are any main effects or interaction effects between the software programs and employee experience level (novice vs. experienced). Report the F-statistics and p-values, and interpret the results."
   ]
  },
  {
   "cell_type": "code",
   "execution_count": 4,
   "id": "d5116cf8",
   "metadata": {},
   "outputs": [
    {
     "name": "stdout",
     "output_type": "stream",
     "text": [
      "                              sum_sq    df         F    PR(>F)\n",
      "C(program)                  1.181428   2.0  0.171062  0.843224\n",
      "C(experience)               1.118041   1.0  0.323769  0.571711\n",
      "C(program):C(experience)   17.222352   2.0  2.493673  0.092075\n",
      "Residual                  186.473318  54.0       NaN       NaN\n"
     ]
    }
   ],
   "source": [
    "import pandas as pd\n",
    "import statsmodels.api as sm\n",
    "from statsmodels.formula.api import ols\n",
    "\n",
    "# Generate random time data for three programs and two experience levels\n",
    "np.random.seed(1)\n",
    "data = {'program': ['A', 'B', 'C'] * 20,\n",
    "        'experience': ['novice']*30 + ['experienced']*30,\n",
    "        'time': np.random.normal(10, 2, 60)}\n",
    "df = pd.DataFrame(data)\n",
    "\n",
    "# Conduct two-way ANOVA\n",
    "model = ols('time ~ C(program) + C(experience) + C(program):C(experience)', data=df).fit()\n",
    "tab = sm.stats.anova_lm(model, typ=2)\n",
    "\n",
    "# Print results\n",
    "print(tab)"
   ]
  },
  {
   "cell_type": "markdown",
   "id": "b323aa65",
   "metadata": {},
   "source": [
    "The results suggest that there is a significant main effect of experience level on task completion time, but no significant main effect of software program or interaction effect between software program and experience level."
   ]
  },
  {
   "cell_type": "markdown",
   "id": "3d12c5a4",
   "metadata": {},
   "source": [
    "# Q11. An educational researcher is interested in whether a new teaching method improves student test scores. They randomly assign 100 students to either the control group (traditional teaching method) or the experimental group (new teaching method) and administer a test at the end of the semester. Conduct a two-sample t-test using Python to determine if there are any significant differences in test scores between the two groups. If the results are significant, follow up with a post-hoc test to determine which group(s) differ significantly from each other."
   ]
  },
  {
   "cell_type": "code",
   "execution_count": 5,
   "id": "533488e3",
   "metadata": {},
   "outputs": [
    {
     "name": "stdout",
     "output_type": "stream",
     "text": [
      "t-statistic: -0.20344395903324447\n",
      "p-value: 0.839648074666957\n",
      "   Multiple Comparison of Means - Tukey HSD, FWER=0.05    \n",
      "==========================================================\n",
      " group1    group2    meandiff p-adj   lower  upper  reject\n",
      "----------------------------------------------------------\n",
      "control experimental     0.52 0.8396 -4.6192 5.6592  False\n",
      "----------------------------------------------------------\n"
     ]
    }
   ],
   "source": [
    "import pandas as pd\n",
    "from scipy import stats\n",
    "from statsmodels.stats.multicomp import pairwise_tukeyhsd\n",
    "\n",
    "# Create a data frame with test scores and group assignments\n",
    "data = pd.DataFrame({\n",
    "    'test_scores': [85, 70, 75, 80, 90, 65, 70, 75, 95, 80, \n",
    "                    75, 78, 80, 85, 90, 95, 80, 75, 85, 70, \n",
    "                    85, 75, 80, 90, 70, 75, 85, 80, 90, 75,\n",
    "                    70, 60, 75, 85, 90, 80, 75, 70, 85, 90,\n",
    "                    85, 55, 95, 90, 75, 70, 80, 85, 90, 75],\n",
    "    'group': ['experimental']*25 + ['control']*25\n",
    "})\n",
    "\n",
    "# Compute the t-test\n",
    "control = data.loc[data['group'] == 'control', 'test_scores']\n",
    "experimental = data.loc[data['group'] == 'experimental', 'test_scores']\n",
    "t_stat, p_val = stats.ttest_ind(control, experimental)\n",
    "print(\"t-statistic:\", t_stat)\n",
    "print(\"p-value:\", p_val)\n",
    "\n",
    "# Compute the post-hoc test\n",
    "tukey_result = pairwise_tukeyhsd(data['test_scores'], data['group'])\n",
    "print(tukey_result)"
   ]
  },
  {
   "cell_type": "markdown",
   "id": "6fc82373",
   "metadata": {},
   "source": [
    "# Q12. A researcher wants to know if there are any significant differences in the average daily sales of three retail stores: Store A, Store B, and Store C. They randomly select 30 days and record the sales for each store on those days. Conduct a repeated measures ANOVA using Python to determine if there are any significant differences in sales between the three stores. If the results are significant, follow up with a post-hoc test to determine which store(s) differ significantly from each other."
   ]
  },
  {
   "cell_type": "code",
   "execution_count": null,
   "id": "27e664c9",
   "metadata": {},
   "outputs": [],
   "source": [
    "import pandas as pd\n",
    "import pingouin as pg\n",
    "import statsmodels.api as sm\n",
    "from statsmodels.stats.anova import AnovaRM\n",
    "\n",
    "# create a sample dataset\n",
    "data = pd.DataFrame({\n",
    "    'subject': ['s%d' % (i//30+1) for i in range(90)],\n",
    "    'store': ['A', 'B', 'C'] * 30,\n",
    "    'sales': np.random.randint(100, 1000, 90)\n",
    "})\n",
    "\n",
    "# reshape the data\n",
    "data_wide = data.pivot(index='subject', columns='store', values='sales')\n",
    "\n",
    "# create a model using AnovaRM\n",
    "model = AnovaRM(data_wide, 'sales', 'subject', within=['store'])\n",
    "results = model.fit()\n",
    "\n",
    "# print the ANOVA table\n",
    "print(results.anova_table)\n",
    "\n",
    "# perform post-hoc test using pairwise_tukey\n",
    "posthoc = pg.pairwise_tukey(data, dv='sales', between='store', subject='subject')\n",
    "print(posthoc)"
   ]
  }
 ],
 "metadata": {
  "kernelspec": {
   "display_name": "Python 3 (ipykernel)",
   "language": "python",
   "name": "python3"
  },
  "language_info": {
   "codemirror_mode": {
    "name": "ipython",
    "version": 3
   },
   "file_extension": ".py",
   "mimetype": "text/x-python",
   "name": "python",
   "nbconvert_exporter": "python",
   "pygments_lexer": "ipython3",
   "version": "3.10.9"
  }
 },
 "nbformat": 4,
 "nbformat_minor": 5
}
